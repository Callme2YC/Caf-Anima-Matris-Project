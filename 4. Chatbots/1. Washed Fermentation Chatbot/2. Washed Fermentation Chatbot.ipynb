{
 "cells": [
  {
   "cell_type": "markdown",
   "metadata": {},
   "source": [
    "# Washed Fermentation Chatbot to Predict SCA Score"
   ]
  },
  {
   "cell_type": "code",
   "execution_count": 1,
   "metadata": {},
   "outputs": [],
   "source": [
    "import pandas as pd\n",
    "import joblib"
   ]
  },
  {
   "cell_type": "markdown",
   "metadata": {},
   "source": [
    "### Please make sure that the trained model **(gb_washed_model.pkl)** is saved before running the below chatbot."
   ]
  },
  {
   "cell_type": "markdown",
   "metadata": {},
   "source": [
    "## Notifications\n",
    "\n",
    "1. **Numerical Inputs:**\n",
    "   - Ensure that the numerical inputs fall within the following reasonable ranges:\n",
    "     - **Average Temp:** 18°C to 30°C\n",
    "     - **Average PH:** 4.0 to 6.0\n",
    "     - **Average Brix:** 15 to 25\n",
    "     - **Average Humidity:** 60% to 80%\n",
    "     - **Average Drying Temp:** 20°C to 35°C\n",
    "     - **Average Drying Humidity:** 50% to 70%\n",
    "     - **Fermentation Duration (hours):** 48 to 120 hours\n",
    "     - **Drying Fermentation Duration (hours):** 72 to 168 hours\n",
    "   - Inputs should be numerical only, with no units required.\n",
    "   - Inputs outside these ranges may affect the model's accuracy.\n",
    "\n",
    "3. **Weather Conditions:**\n",
    "   - The fermentation process generally lasts 3 to 5 days. Ensure the total number of days with specified weather conditions is reasonable within this timeframe.\n",
    "   - **Example:** If the fermentation lasts 4 days, you might specify 2 sunny days, 1 cloudy day, and 1 rainy day, while other weather conditions should be 0. Ensure the total number of days specified does not exceed 4.\n",
    "\n",
    "4. **Type of Water Used:**\n",
    "   - Only one type of water should be selected for the entire fermentation process.\n",
    "\n",
    "5. **Additives for Fermentation:**\n",
    "   - Only one additive should be selected and used during the fermentation process.\n",
    "\n",
    "Please adhere to these guidelines to ensure accurate and reliable predictions from the model."
   ]
  },
  {
   "cell_type": "markdown",
   "metadata": {},
   "source": [
    "## Load the Saved Model"
   ]
  },
  {
   "cell_type": "code",
   "execution_count": 2,
   "metadata": {},
   "outputs": [],
   "source": [
    "# Load the saved model\n",
    "gb_washed_model = joblib.load('gb_washed_model.pkl')"
   ]
  },
  {
   "cell_type": "markdown",
   "metadata": {},
   "source": [
    "## Run the Chatbot"
   ]
  },
  {
   "cell_type": "code",
   "execution_count": 3,
   "metadata": {},
   "outputs": [
    {
     "name": "stdout",
     "output_type": "stream",
     "text": [
      "Welcome to the SCA Score Prediction Chatbot!\n",
      "Enter Average Temp: 24.7\n",
      "Enter Average PH: 4.79\n",
      "Enter Average Brix: 15.7\n",
      "Enter Average Humidity: 77\n",
      "Enter Average Drying Temp: 25\n",
      "Enter Average Drying Humidity: 76.3\n",
      "Enter Fermentation Duration (hours): 84\n",
      "Enter Drying Fermentation Duration (hours): 90\n",
      "Enter number of Sunny days: 2\n",
      "Enter number of Cloudy days: 1\n",
      "Enter number of Rainy days: 1\n",
      "Enter number of Partly Cloudy days: 0\n",
      "Enter number of Overcast days: 0\n",
      "Enter number of Light Rain days: 0\n",
      "Enter number of Heavy Rain days: 0\n",
      "Is the Coffee Variety Special? (yes/no): yes\n",
      "Is the Type of Water Used Spring Water? (yes/no): yes\n",
      "Is the Type of Water Used Well Water? (yes/no): no\n",
      "Are Additives for Fermentation Molasses? (yes/no): no\n",
      "Are there no Additives for Fermentation? (yes/no): yes\n",
      "Are Additives for Fermentation Sugar? (yes/no): no\n",
      "Are Additives for Fermentation Yeast? (yes/no): no\n",
      "Predicted SCA Score: 85.18771935590482\n",
      "Would you like to input another set of data? (yes/no): no\n",
      "Thank you for using the SCA Score Prediction Chatbot. Goodbye!\n"
     ]
    }
   ],
   "source": [
    "def get_user_input():\n",
    "    \"\"\"Prompt the user for input data\"\"\"\n",
    "    input_data = {}\n",
    "    input_data['Average Temp'] = float(input(\"Enter Average Temp: \"))\n",
    "    input_data['Average PH'] = float(input(\"Enter Average PH: \"))\n",
    "    input_data['Average Brix'] = float(input(\"Enter Average Brix: \"))\n",
    "    input_data['Average Humidity'] = float(input(\"Enter Average Humidity: \"))\n",
    "    input_data['Average Drying Temp'] = float(input(\"Enter Average Drying Temp: \"))\n",
    "    input_data['Average Drying Humidity'] = float(input(\"Enter Average Drying Humidity: \"))\n",
    "    input_data['Fermentation Duration (hours)'] = int(input(\"Enter Fermentation Duration (hours): \"))\n",
    "    input_data['Drying Fermentation Duration (hours)'] = int(input(\"Enter Drying Fermentation Duration (hours): \"))\n",
    "    input_data['Sunny'] = int(input(\"Enter number of Sunny days: \"))\n",
    "    input_data['Cloudy'] = int(input(\"Enter number of Cloudy days: \"))\n",
    "    input_data['Rainy'] = int(input(\"Enter number of Rainy days: \"))\n",
    "    input_data['Partly Cloudy'] = int(input(\"Enter number of Partly Cloudy days: \"))\n",
    "    input_data['Overcast'] = int(input(\"Enter number of Overcast days: \"))\n",
    "    input_data['Light Rain'] = int(input(\"Enter number of Light Rain days: \"))\n",
    "    input_data['Heavy Rain'] = int(input(\"Enter number of Heavy Rain days: \"))\n",
    "    input_data['Coffee Variety_Special'] = bool(input(\"Is the Coffee Variety Special? (yes/no): \").strip().lower() == 'yes')\n",
    "    input_data['Type of Water Used_Spring Water'] = bool(input(\"Is the Type of Water Used Spring Water? (yes/no): \").strip().lower() == 'yes')\n",
    "    input_data['Type of Water Used_Well Water'] = bool(input(\"Is the Type of Water Used Well Water? (yes/no): \").strip().lower() == 'yes')\n",
    "    input_data['Additives for fermentation_Molasses'] = bool(input(\"Are Additives for Fermentation Molasses? (yes/no): \").strip().lower() == 'yes')\n",
    "    input_data['Additives for fermentation_None'] = bool(input(\"Are there no Additives for Fermentation? (yes/no): \").strip().lower() == 'yes')\n",
    "    input_data['Additives for fermentation_Sugar'] = bool(input(\"Are Additives for Fermentation Sugar? (yes/no): \").strip().lower() == 'yes')\n",
    "    input_data['Additives for fermentation_Yeast'] = bool(input(\"Are Additives for Fermentation Yeast? (yes/no): \").strip().lower() == 'yes')\n",
    "    \n",
    "    return input_data\n",
    "\n",
    "def predict_sca_score(input_data):\n",
    "    \"\"\"Predict SCA score based on user input\"\"\"\n",
    "    input_df = pd.DataFrame([input_data])\n",
    "    prediction = gb_washed_model.predict(input_df)\n",
    "    return prediction[0]\n",
    "\n",
    "def chatbot():\n",
    "    print(\"Welcome to the SCA Score Prediction Chatbot!\")\n",
    "    while True:\n",
    "        user_input = get_user_input()\n",
    "        sca_score = predict_sca_score(user_input)\n",
    "        print(f\"Predicted SCA Score: {sca_score}\")\n",
    "        \n",
    "        cont = input(\"Would you like to input another set of data? (yes/no): \").strip().lower()\n",
    "        if cont != 'yes':\n",
    "            print(\"Thank you for using the SCA Score Prediction Chatbot. Goodbye!\")\n",
    "            break\n",
    "\n",
    "if __name__ == \"__main__\":\n",
    "    chatbot()\n"
   ]
  },
  {
   "cell_type": "code",
   "execution_count": null,
   "metadata": {},
   "outputs": [],
   "source": []
  }
 ],
 "metadata": {
  "kernelspec": {
   "display_name": "Python (myenv)",
   "language": "python",
   "name": "myenv"
  },
  "language_info": {
   "codemirror_mode": {
    "name": "ipython",
    "version": 3
   },
   "file_extension": ".py",
   "mimetype": "text/x-python",
   "name": "python",
   "nbconvert_exporter": "python",
   "pygments_lexer": "ipython3",
   "version": "3.11.5"
  }
 },
 "nbformat": 4,
 "nbformat_minor": 2
}
