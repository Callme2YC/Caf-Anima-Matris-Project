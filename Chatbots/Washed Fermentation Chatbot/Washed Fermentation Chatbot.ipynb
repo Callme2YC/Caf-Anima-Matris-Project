{
 "cells": [
  {
   "cell_type": "markdown",
   "metadata": {},
   "source": [
    "# Washed Fermentation Chatbot to Predict SCA Score"
   ]
  },
  {
   "cell_type": "code",
   "execution_count": 6,
   "metadata": {},
   "outputs": [],
   "source": [
    "import pandas as pd\n",
    "import xgboost as xgb"
   ]
  },
  {
   "cell_type": "markdown",
   "metadata": {},
   "source": [
    "Please make sure that the trained model (xgb_washed_model.pkl) is saved before running the below chatbot."
   ]
  },
  {
   "cell_type": "code",
   "execution_count": 7,
   "metadata": {},
   "outputs": [
    {
     "name": "stdout",
     "output_type": "stream",
     "text": [
      "Welcome to the SCA Score Prediction Chatbot!\n"
     ]
    },
    {
     "name": "stdout",
     "output_type": "stream",
     "text": [
      "Predicted SCA Score: 85.92696380615234\n",
      "Thank you for using the SCA Score Prediction Chatbot. Goodbye!\n"
     ]
    }
   ],
   "source": [
    "\n",
    "# Load the saved model\n",
    "# Initialize the XGBRegressor instance\n",
    "xgb_honey_model = xgb.XGBRegressor()\n",
    "xgb_honey_model.load_model('xgb_washed_model.json')\n",
    "\n",
    "def get_user_input():\n",
    "    \"\"\"Prompt the user for input data\"\"\"\n",
    "    input_data = {}\n",
    "    input_data['Average Temp'] = float(input(\"Enter Average Temp: \"))\n",
    "    input_data['Average PH'] = float(input(\"Enter Average PH: \"))\n",
    "    input_data['Average Brix'] = float(input(\"Enter Average Brix: \"))\n",
    "    input_data['Average Humidity'] = float(input(\"Enter Average Humidity: \"))\n",
    "    input_data['Average Drying Temp'] = float(input(\"Enter Average Drying Temp: \"))\n",
    "    input_data['Average Drying Humidity'] = float(input(\"Enter Average Drying Humidity: \"))\n",
    "    input_data['Fermentation Duration (hours)'] = int(input(\"Enter Fermentation Duration (hours): \"))\n",
    "    input_data['Drying Fermentation Duration (hours)'] = int(input(\"Enter Drying Fermentation Duration (hours): \"))\n",
    "    input_data['Sunny'] = int(input(\"Enter number of Sunny days: \"))\n",
    "    input_data['Cloudy'] = int(input(\"Enter number of Cloudy days: \"))\n",
    "    input_data['Rainy'] = int(input(\"Enter number of Rainy days: \"))\n",
    "    input_data['Partly Cloudy'] = int(input(\"Enter number of Partly Cloudy days: \"))\n",
    "    input_data['Overcast'] = int(input(\"Enter number of Overcast days: \"))\n",
    "    input_data['Light Rain'] = int(input(\"Enter number of Light Rain days: \"))\n",
    "    input_data['Heavy Rain'] = int(input(\"Enter number of Heavy Rain days: \"))\n",
    "    input_data['Coffee Variety_Special'] = bool(input(\"Is the Coffee Variety Special? (yes/no): \").strip().lower() == 'yes')\n",
    "    input_data['Type of Water Used_Spring Water'] = bool(input(\"Is the Type of Water Used Spring Water? (yes/no): \").strip().lower() == 'yes')\n",
    "    input_data['Type of Water Used_Well Water'] = bool(input(\"Is the Type of Water Used Well Water? (yes/no): \").strip().lower() == 'yes')\n",
    "    input_data['Additives for fermentation_Molasses'] = bool(input(\"Are Additives for Fermentation Molasses? (yes/no): \").strip().lower() == 'yes')\n",
    "    input_data['Additives for fermentation_None'] = bool(input(\"Are there no Additives for Fermentation? (yes/no): \").strip().lower() == 'yes')\n",
    "    input_data['Additives for fermentation_Sugar'] = bool(input(\"Are Additives for Fermentation Sugar? (yes/no): \").strip().lower() == 'yes')\n",
    "    input_data['Additives for fermentation_Yeast'] = bool(input(\"Are Additives for Fermentation Yeast? (yes/no): \").strip().lower() == 'yes')\n",
    "    \n",
    "    return input_data\n",
    "\n",
    "def predict_sca_score(input_data):\n",
    "    \"\"\"Predict SCA score based on user input\"\"\"\n",
    "    input_df = pd.DataFrame([input_data])\n",
    "    prediction = xgb_washed_model.predict(input_df)\n",
    "    return prediction[0]\n",
    "\n",
    "def chatbot():\n",
    "    print(\"Welcome to the SCA Score Prediction Chatbot!\")\n",
    "    while True:\n",
    "        user_input = get_user_input()\n",
    "        sca_score = predict_sca_score(user_input)\n",
    "        print(f\"Predicted SCA Score: {sca_score}\")\n",
    "        \n",
    "        cont = input(\"Would you like to input another set of data? (yes/no): \").strip().lower()\n",
    "        if cont != 'yes':\n",
    "            print(\"Thank you for using the SCA Score Prediction Chatbot. Goodbye!\")\n",
    "            break\n",
    "\n",
    "if __name__ == \"__main__\":\n",
    "    chatbot()\n"
   ]
  },
  {
   "cell_type": "code",
   "execution_count": null,
   "metadata": {},
   "outputs": [],
   "source": []
  }
 ],
 "metadata": {
  "kernelspec": {
   "display_name": "Python (myenv)",
   "language": "python",
   "name": "myenv"
  },
  "language_info": {
   "codemirror_mode": {
    "name": "ipython",
    "version": 3
   },
   "file_extension": ".py",
   "mimetype": "text/x-python",
   "name": "python",
   "nbconvert_exporter": "python",
   "pygments_lexer": "ipython3",
   "version": "3.11.5"
  }
 },
 "nbformat": 4,
 "nbformat_minor": 2
}
