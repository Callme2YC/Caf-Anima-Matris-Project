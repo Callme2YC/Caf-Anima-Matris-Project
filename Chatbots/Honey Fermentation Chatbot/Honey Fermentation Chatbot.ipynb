{
 "cells": [
  {
   "cell_type": "markdown",
   "metadata": {},
   "source": [
    "# Honey Fermentation Chatbot to Predict SCA Score"
   ]
  },
  {
   "cell_type": "code",
   "execution_count": 1,
   "metadata": {},
   "outputs": [],
   "source": [
    "import pandas as pd\n",
    "import joblib"
   ]
  },
  {
   "cell_type": "markdown",
   "metadata": {},
   "source": [
    "### Please make sure that the trained model **(gb_honey_model.pkl)** is saved before running the below chatbot."
   ]
  },
  {
   "cell_type": "markdown",
   "metadata": {},
   "source": [
    "## Load the Saved Model"
   ]
  },
  {
   "cell_type": "code",
   "execution_count": 2,
   "metadata": {},
   "outputs": [],
   "source": [
    "\n",
    "# Load the saved model\n",
    "gb_honey_model = joblib.load('gb_honey_model.pkl')"
   ]
  },
  {
   "cell_type": "markdown",
   "metadata": {},
   "source": [
    "## Run the Chatbot"
   ]
  },
  {
   "cell_type": "markdown",
   "metadata": {},
   "source": [
    "## Notifications on the Parameter Inputs\n",
    "\n",
    "1. **Numerical Inputs:**\n",
    "   - Ensure that the numerical inputs fall within the following reasonable ranges:\n",
    "     - **Average Temp:** 18°C to 30°C\n",
    "     - **Average PH:** 4.0 to 6.0\n",
    "     - **Average Brix:** 15 to 25\n",
    "     - **Average Humidity:** 60% to 80%\n",
    "     - **Average Drying Temp:** 20°C to 35°C\n",
    "     - **Average Drying Humidity:** 50% to 70%\n",
    "     - **Fermentation Duration (hours):** 48 to 120 hours\n",
    "     - **Drying Fermentation Duration (hours):** 72 to 168 hours\n",
    "   - Inputs outside these ranges may affect the model's accuracy.\n",
    "\n",
    "2. **Weather Conditions:**\n",
    "   - The fermentation process generally lasts 3 to 5 days. Ensure the total number of days with specified weather conditions is reasonable within this timeframe.\n",
    "   - **Example:** If the fermentation lasts 4 days, you might specify 2 sunny days, 1 cloudy day, and 1 rainy day, while other weather conditions should be 0. Ensure the total number of days specified does not exceed 4.\n",
    "\n",
    "3. **Barrel Open in (Hour):**\n",
    "   - Honey fermentation is conducted in a sealed environment (i.e., in the barrel). However, it is occasionally necessary to open the barrel to mix the beans, particularly when the temperature is too high. Opening the barrel can help reduce the temperature. For this variable, a range of 0 to 3 hours has been assigned during the model development stage.\n",
    "\n",
    "4. **Barrel Close in (Hour):**\n",
    "   - This parameter should generally be the same as the fermentation duration hour. Ensure this rule is followed.\n",
    "\n",
    "5. **Type of Water Used:**\n",
    "   - There is no questino for the \"Typy of Water User\", since honey fermentation do not need water in this process.\n",
    "\n",
    "6. **Pre-fermentation for Honey:**\n",
    "   - If \"Yes\" is entered for \"Whether pre-fermentation is used,\" the chatbot will prompt you to input the duration of the pre-fermentation in hours. If \"No\" is entered, this question will not be presented.\n",
    "\n",
    "7. **Additives for Fermentation:**\n",
    "   - Only one additive should be selected and used during the fermentation process.\n",
    "\n",
    "Please adhere to these guidelines to ensure accurate and reliable predictions from the model."
   ]
  },
  {
   "cell_type": "code",
   "execution_count": 3,
   "metadata": {},
   "outputs": [
    {
     "name": "stdout",
     "output_type": "stream",
     "text": [
      "Welcome to the SCA Score Prediction Chatbot!\n",
      "Enter the average temperature: 24.7\n",
      "Enter the average pH: 4.79\n",
      "Enter the average Brix level: 15.7\n",
      "Enter the average humidity: 77\n",
      "Enter the average drying temperature: 25\n",
      "Enter the average drying humidity: 76.3\n",
      "Enter the number of hours the barrel is open: 1\n",
      "Enter the number of hours the barrel is closed: 90\n",
      "Enter the fermentation duration (in hours): 90\n",
      "Enter the drying duration (in hours): 100\n",
      "Enter the number of sunny days: 1\n",
      "Enter the number of cloudy days: 2\n",
      "Enter the number of rainy days: 1\n",
      "Enter the number of overcast days: 0\n",
      "Enter the number of light rain days: 0\n",
      "Enter the number of heavy rain days: 0\n",
      "Is the coffee variety special? (yes/no): yes\n",
      "Are Additives for Fermentation Molasses? (yes/no): no\n",
      "Are there no Additives for Fermentation? (yes/no): yes\n",
      "Are Additives for Fermentation Sugar? (yes/no): no\n",
      "Are Additives for Fermentation Yeast? (yes/no): no\n",
      "Is there pre-fermentation? (yes/no): yes\n",
      "Enter the pre-fermentation details (in hours) for honey: 24\n",
      "Predicted SCA Score: 87.03769512280776\n",
      "Would you like to input another set of data? (yes/no): no\n",
      "Thank you for using the SCA Score Prediction Chatbot. Goodbye!\n"
     ]
    }
   ],
   "source": [
    "\n",
    "def get_user_input():\n",
    "    \"\"\"Prompt the user for input data\"\"\"\n",
    "    input_data = {}\n",
    "    input_data['Average Temp'] = float(input(\"Enter the average temperature: \"))\n",
    "    input_data['Average PH'] = float(input(\"Enter the average pH: \"))\n",
    "    input_data['Average Brix'] = float(input(\"Enter the average Brix level: \"))\n",
    "    input_data['Average Humidity'] = int(input(\"Enter the average humidity: \"))\n",
    "    input_data['Average Drying Temp'] = float(input(\"Enter the average drying temperature: \"))\n",
    "    input_data['Average Drying Humidity'] = float(input(\"Enter the average drying humidity: \"))\n",
    "    input_data['Barrel Open in (Hour)'] = int(input(\"Enter the number of hours the barrel is open: \"))\n",
    "    input_data['Barrel Close in (Hour)'] = int(input(\"Enter the number of hours the barrel is closed: \"))\n",
    "    input_data['Fermentation Duration (hours)'] = int(input(\"Enter the fermentation duration (in hours): \"))\n",
    "    input_data['Drying Fermentation Duration (hours)'] = int(input(\"Enter the drying duration (in hours): \"))\n",
    "    input_data['Sunny'] = int(input(\"Enter the number of sunny days: \"))\n",
    "    input_data['Cloudy'] = int(input(\"Enter the number of cloudy days: \"))\n",
    "    input_data['Rainy'] = int(input(\"Enter the number of rainy days: \"))\n",
    "    input_data['Overcast'] = int(input(\"Enter the number of overcast days: \"))\n",
    "    input_data['Light Rain'] = int(input(\"Enter the number of light rain days: \"))\n",
    "    input_data['Heavy Rain'] = int(input(\"Enter the number of heavy rain days: \"))\n",
    "    input_data['Coffee Variety_Special'] = bool(input(\"Is the coffee variety special? (yes/no): \").strip().lower() == 'yes')\n",
    "    input_data['Additives for fermentation_Molasses'] = bool(input(\"Are Additives for Fermentation Molasses? (yes/no): \").strip().lower() == 'yes')\n",
    "    input_data['Additives for fermentation_None'] = bool(input(\"Are there no Additives for Fermentation? (yes/no): \").strip().lower() == 'yes')\n",
    "    input_data['Additives for fermentation_Sugar'] = bool(input(\"Are Additives for Fermentation Sugar? (yes/no): \").strip().lower() == 'yes')\n",
    "    input_data['Additives for fermentation_Yeast'] = bool(input(\"Are Additives for Fermentation Yeast? (yes/no): \").strip().lower() == 'yes')\n",
    "    input_data['Pre-fermentation for Honey_Yes'] = bool(input(\"Is there pre-fermentation? (yes/no): \").strip().lower() == 'yes')\n",
    "\n",
    "    if input_data['Pre-fermentation for Honey_Yes']:\n",
    "        input_data['Pre-fermentation Details (Hour) for Honey'] = int(input(\"Enter the pre-fermentation details (in hours) for honey: \"))\n",
    "    else:\n",
    "        input_data['Pre-fermentation Details (Hour) for Honey'] = 0\n",
    "\n",
    "    # Ensure the columns match the model's expected order\n",
    "    expected_columns = ['Average Temp', 'Average PH', 'Average Brix', 'Average Humidity', 'Average Drying Temp', \n",
    "                        'Average Drying Humidity', 'Barrel Open in (Hour)', 'Barrel Close in (Hour)', \n",
    "                        'Pre-fermentation Details (Hour) for Honey', 'Fermentation Duration (hours)', \n",
    "                        'Drying Fermentation Duration (hours)', 'Sunny', 'Cloudy', 'Rainy', 'Overcast', \n",
    "                        'Light Rain', 'Heavy Rain', 'Coffee Variety_Special', 'Additives for fermentation_Molasses', \n",
    "                        'Additives for fermentation_None', 'Additives for fermentation_Sugar', \n",
    "                        'Additives for fermentation_Yeast', 'Pre-fermentation for Honey_Yes']\n",
    "\n",
    "    input_data = {k: input_data[k] for k in expected_columns}\n",
    "\n",
    "    return input_data\n",
    "\n",
    "def predict_sca_score(input_data):\n",
    "    \"\"\"Predict SCA score based on user input\"\"\"\n",
    "    input_df = pd.DataFrame([input_data])\n",
    "    prediction = gb_honey_model.predict(input_df)\n",
    "    return prediction[0]\n",
    "\n",
    "def chatbot():\n",
    "    print(\"Welcome to the SCA Score Prediction Chatbot!\")\n",
    "    while True:\n",
    "        user_input = get_user_input()\n",
    "        sca_score = predict_sca_score(user_input)\n",
    "        print(f\"Predicted SCA Score: {sca_score}\")\n",
    "        \n",
    "        cont = input(\"Would you like to input another set of data? (yes/no): \").strip().lower()\n",
    "        if cont != 'yes':\n",
    "            print(\"Thank you for using the SCA Score Prediction Chatbot. Goodbye!\")\n",
    "            break\n",
    "\n",
    "if __name__ == \"__main__\":\n",
    "    chatbot()\n"
   ]
  },
  {
   "cell_type": "code",
   "execution_count": null,
   "metadata": {},
   "outputs": [],
   "source": []
  }
 ],
 "metadata": {
  "kernelspec": {
   "display_name": "Python (myenv)",
   "language": "python",
   "name": "myenv"
  },
  "language_info": {
   "codemirror_mode": {
    "name": "ipython",
    "version": 3
   },
   "file_extension": ".py",
   "mimetype": "text/x-python",
   "name": "python",
   "nbconvert_exporter": "python",
   "pygments_lexer": "ipython3",
   "version": "3.11.5"
  }
 },
 "nbformat": 4,
 "nbformat_minor": 2
}
