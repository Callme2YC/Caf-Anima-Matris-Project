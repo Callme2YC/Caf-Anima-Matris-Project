{
 "cells": [
  {
   "cell_type": "markdown",
   "metadata": {},
   "source": [
    "# Honey Fermentation Chatbot to Predict SCA Score"
   ]
  },
  {
   "cell_type": "code",
   "execution_count": 11,
   "metadata": {},
   "outputs": [],
   "source": [
    "import pandas as pd\n",
    "import xgboost as xgb"
   ]
  },
  {
   "cell_type": "markdown",
   "metadata": {},
   "source": [
    "Please make sure that the trained model (xgb_honey_model.pkl) is saved before running the below chatbot."
   ]
  },
  {
   "cell_type": "code",
   "execution_count": 12,
   "metadata": {},
   "outputs": [
    {
     "name": "stdout",
     "output_type": "stream",
     "text": [
      "Welcome to the SCA Score Prediction Chatbot!\n",
      "Predicted SCA Score: 85.16577911376953\n",
      "Thank you for using the SCA Score Prediction Chatbot. Goodbye!\n"
     ]
    }
   ],
   "source": [
    "# Load the saved model\n",
    "# Initialize the XGBRegressor instance\n",
    "xgb_honey_model = xgb.XGBRegressor()\n",
    "xgb_honey_model.load_model('xgb_honey_model.json')\n",
    "\n",
    "def get_user_input():\n",
    "    \"\"\"Prompt the user for input data\"\"\"\n",
    "    input_data = {}\n",
    "    input_data['Average Temp'] = float(input(\"Enter the average temperature: \"))\n",
    "    input_data['Average PH'] = float(input(\"Enter the average pH: \"))\n",
    "    input_data['Average Brix'] = float(input(\"Enter the average Brix level: \"))\n",
    "    input_data['Average Humidity'] = int(input(\"Enter the average humidity: \"))\n",
    "    input_data['Average Drying Temp'] = float(input(\"Enter the average drying temperature: \"))\n",
    "    input_data['Average Drying Humidity'] = float(input(\"Enter the average drying humidity: \"))\n",
    "    input_data['Barrel Open in (Hour)'] = int(input(\"Enter the number of hours the barrel is open: \"))\n",
    "    input_data['Barrel Close in (Hour)'] = int(input(\"Enter the number of hours the barrel is closed: \"))\n",
    "    input_data['Fermentation Duration (hours)'] = int(input(\"Enter the fermentation duration (in hours): \"))\n",
    "    input_data['Drying Fermentation Duration (hours)'] = int(input(\"Enter the drying duration (in hours): \"))\n",
    "    input_data['Sunny'] = int(input(\"Enter the number of sunny days: \"))\n",
    "    input_data['Cloudy'] = int(input(\"Enter the number of cloudy days: \"))\n",
    "    input_data['Rainy'] = int(input(\"Enter the number of rainy days: \"))\n",
    "    input_data['Overcast'] = int(input(\"Enter the number of overcast days: \"))\n",
    "    input_data['Light Rain'] = int(input(\"Enter the number of light rain days: \"))\n",
    "    input_data['Heavy Rain'] = int(input(\"Enter the number of heavy rain days: \"))\n",
    "    input_data['Coffee Variety_Special'] = bool(input(\"Is the coffee variety special? (yes/no): \").strip().lower() == 'yes')\n",
    "    input_data['Additives for fermentation_Molasses'] = bool(input(\"Are Additives for Fermentation Molasses? (yes/no): \").strip().lower() == 'yes')\n",
    "    input_data['Additives for fermentation_None'] = bool(input(\"Are there no Additives for Fermentation? (yes/no): \").strip().lower() == 'yes')\n",
    "    input_data['Additives for fermentation_Sugar'] = bool(input(\"Are Additives for Fermentation Sugar? (yes/no): \").strip().lower() == 'yes')\n",
    "    input_data['Additives for fermentation_Yeast'] = bool(input(\"Are Additives for Fermentation Yeast? (yes/no): \").strip().lower() == 'yes')\n",
    "    input_data['Pre-fermentation for Honey_Yes'] = bool(input(\"Is there pre-fermentation? (yes/no): \").strip().lower() == 'yes')\n",
    "\n",
    "    if input_data['Pre-fermentation for Honey_Yes']:\n",
    "        input_data['Pre-fermentation Details (Hour) for Honey'] = int(input(\"Enter the pre-fermentation details (in hours) for honey: \"))\n",
    "    else:\n",
    "        input_data['Pre-fermentation Details (Hour) for Honey'] = 0\n",
    "\n",
    "    # Ensure the columns match the model's expected order\n",
    "    expected_columns = ['Average Temp', 'Average PH', 'Average Brix', 'Average Humidity', 'Average Drying Temp', \n",
    "                        'Average Drying Humidity', 'Barrel Open in (Hour)', 'Barrel Close in (Hour)', \n",
    "                        'Pre-fermentation Details (Hour) for Honey', 'Fermentation Duration (hours)', \n",
    "                        'Drying Fermentation Duration (hours)', 'Sunny', 'Cloudy', 'Rainy', 'Overcast', \n",
    "                        'Light Rain', 'Heavy Rain', 'Coffee Variety_Special', 'Additives for fermentation_Molasses', \n",
    "                        'Additives for fermentation_None', 'Additives for fermentation_Sugar', \n",
    "                        'Additives for fermentation_Yeast', 'Pre-fermentation for Honey_Yes']\n",
    "\n",
    "    input_data = {k: input_data[k] for k in expected_columns}\n",
    "\n",
    "    return input_data\n",
    "\n",
    "def predict_sca_score(input_data):\n",
    "    \"\"\"Predict SCA score based on user input\"\"\"\n",
    "    input_df = pd.DataFrame([input_data])\n",
    "    prediction = xgb_honey_model.predict(input_df)\n",
    "    return prediction[0]\n",
    "\n",
    "def chatbot():\n",
    "    print(\"Welcome to the SCA Score Prediction Chatbot!\")\n",
    "    while True:\n",
    "        user_input = get_user_input()\n",
    "        sca_score = predict_sca_score(user_input)\n",
    "        print(f\"Predicted SCA Score: {sca_score}\")\n",
    "        \n",
    "        cont = input(\"Would you like to input another set of data? (yes/no): \").strip().lower()\n",
    "        if cont != 'yes':\n",
    "            print(\"Thank you for using the SCA Score Prediction Chatbot. Goodbye!\")\n",
    "            break\n",
    "\n",
    "if __name__ == \"__main__\":\n",
    "    chatbot()\n"
   ]
  },
  {
   "cell_type": "code",
   "execution_count": null,
   "metadata": {},
   "outputs": [],
   "source": []
  }
 ],
 "metadata": {
  "kernelspec": {
   "display_name": "Python (myenv)",
   "language": "python",
   "name": "myenv"
  },
  "language_info": {
   "codemirror_mode": {
    "name": "ipython",
    "version": 3
   },
   "file_extension": ".py",
   "mimetype": "text/x-python",
   "name": "python",
   "nbconvert_exporter": "python",
   "pygments_lexer": "ipython3",
   "version": "3.11.5"
  }
 },
 "nbformat": 4,
 "nbformat_minor": 2
}
